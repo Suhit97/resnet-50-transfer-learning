{
  "nbformat": 4,
  "nbformat_minor": 0,
  "metadata": {
    "colab": {
      "name": "Tensorflow_transfer_learning_resnet50.ipynb",
      "provenance": [],
      "collapsed_sections": [],
      "authorship_tag": "ABX9TyMUcHDdiR7YHKAPuGwII7ae",
      "include_colab_link": true
    },
    "kernelspec": {
      "name": "python3",
      "display_name": "Python 3"
    },
    "accelerator": "GPU"
  },
  "cells": [
    {
      "cell_type": "markdown",
      "metadata": {
        "id": "view-in-github",
        "colab_type": "text"
      },
      "source": [
        "<a href=\"https://colab.research.google.com/github/Suhit97/resnet-50-transfer-learning/blob/main/Tensorflow_transfer_learning_resnet50.ipynb\" target=\"_parent\"><img src=\"https://colab.research.google.com/assets/colab-badge.svg\" alt=\"Open In Colab\"/></a>"
      ]
    },
    {
      "cell_type": "code",
      "metadata": {
        "colab": {
          "base_uri": "https://localhost:8080/"
        },
        "id": "Q0UMGtr7GIew",
        "outputId": "55b86b03-39d9-41cc-c9e4-6134a0db2512"
      },
      "source": [
        "import tensorflow as tf\r\n",
        "import tensorflow_datasets as tfds\r\n",
        "import matplotlib.pyplot as plt\r\n",
        "%matplotlib inline\r\n",
        "print(\"tensorflow version:\", tf.__version__)"
      ],
      "execution_count": 1,
      "outputs": [
        {
          "output_type": "stream",
          "text": [
            "tensorflow version: 2.4.0\n"
          ],
          "name": "stdout"
        }
      ]
    },
    {
      "cell_type": "code",
      "metadata": {
        "id": "gHuKgocpGv9J"
      },
      "source": [
        "BATCH_SIZE = 32\r\n",
        "classes = ['airplane', 'automobile', 'bird', 'cat', 'deer', 'dog', 'frog', 'horse', 'ship', 'truck']"
      ],
      "execution_count": 2,
      "outputs": []
    },
    {
      "cell_type": "code",
      "metadata": {
        "colab": {
          "base_uri": "https://localhost:8080/"
        },
        "id": "CBya4DXQG4nS",
        "outputId": "8a816b12-b888-41e1-f3be-d73f5b8673c3"
      },
      "source": [
        "(training_images, training_labels) , (validation_images, validation_labels) = tf.keras.datasets.cifar10.load_data()"
      ],
      "execution_count": 3,
      "outputs": [
        {
          "output_type": "stream",
          "text": [
            "Downloading data from https://www.cs.toronto.edu/~kriz/cifar-10-python.tar.gz\n",
            "170500096/170498071 [==============================] - 11s 0us/step\n"
          ],
          "name": "stdout"
        }
      ]
    },
    {
      "cell_type": "code",
      "metadata": {
        "id": "QIK16pYcHPB8"
      },
      "source": [
        "def process_input(images):\r\n",
        "    img = images.astype('float')\r\n",
        "    img = tf.keras.applications.resnet50.preprocess_input(img)\r\n",
        "\r\n",
        "    return img"
      ],
      "execution_count": 4,
      "outputs": []
    },
    {
      "cell_type": "code",
      "metadata": {
        "id": "YEpYp0sBHn9A"
      },
      "source": [
        "X_train = process_input(training_images)\r\n",
        "X_val = process_input(validation_images)"
      ],
      "execution_count": 5,
      "outputs": []
    },
    {
      "cell_type": "code",
      "metadata": {
        "colab": {
          "base_uri": "https://localhost:8080/"
        },
        "id": "SOFtVc2pH4Uu",
        "outputId": "dd814e89-fe9e-4fbd-c31e-a4ad6dfecdc9"
      },
      "source": [
        "print(\"Shape of X_train : \",X_train.shape)\r\n",
        "print(\"Shape of training_labels : \",training_labels.shape)\r\n",
        "print(\"Shape of X_val : \",X_val.shape)\r\n",
        "print(\"Shape of validation_labels : \",validation_labels.shape)"
      ],
      "execution_count": 6,
      "outputs": [
        {
          "output_type": "stream",
          "text": [
            "Shape of X_train :  (50000, 32, 32, 3)\n",
            "Shape of training_labels :  (50000, 1)\n",
            "Shape of X_val :  (10000, 32, 32, 3)\n",
            "Shape of validation_labels :  (10000, 1)\n"
          ],
          "name": "stdout"
        }
      ]
    },
    {
      "cell_type": "code",
      "metadata": {
        "id": "zGlyQoA4H8tq"
      },
      "source": [
        "def predefine_model(inputs):\r\n",
        "    resnet = tf.keras.applications.resnet.ResNet50(weights='imagenet', include_top=False, input_shape=(224,224,3))\r\n",
        "    x = resnet(inputs)\r\n",
        "    return x"
      ],
      "execution_count": 7,
      "outputs": []
    },
    {
      "cell_type": "code",
      "metadata": {
        "id": "011tlpdhIagl"
      },
      "source": [
        "def outputlayer(inputs):\r\n",
        "\r\n",
        "    x = predefine_model(inputs)\r\n",
        "    x = tf.keras.layers.GlobalAveragePooling2D()(x)\r\n",
        "    x = tf.keras.layers.Flatten()(x)\r\n",
        "    x = tf.keras.layers.Dense(1024, activation = 'relu')(x)\r\n",
        "    x = tf.keras.layers.Dense(512, activation = 'relu')(x)\r\n",
        "    x = tf.keras.layers.Dense(10, activation = 'softmax', name=\"classification\" )(x)\r\n",
        "\r\n",
        "    return x\r\n"
      ],
      "execution_count": 8,
      "outputs": []
    },
    {
      "cell_type": "code",
      "metadata": {
        "id": "LD82KHZvJTxE"
      },
      "source": [
        "def get_model():\r\n",
        "    Input = tf.keras.layers.Input(shape=(32 , 32 , 3))\r\n",
        "    x     = tf.keras.layers.UpSampling2D(size=(7,7))(Input) # as 7x32 = 128 which is imagenet ideal i/p\r\n",
        "    x     = outputlayer(x)\r\n",
        "\r\n",
        "    model = tf.keras.models.Model(inputs = Input , outputs = x)\r\n",
        "    model.compile(loss = tf.keras.losses.sparse_categorical_crossentropy , optimizer = 'sgd' , metrics = ['acc'])\r\n",
        "    return model\r\n",
        "\r\n"
      ],
      "execution_count": 9,
      "outputs": []
    },
    {
      "cell_type": "code",
      "metadata": {
        "colab": {
          "base_uri": "https://localhost:8080/"
        },
        "id": "3tiZDfzrJpFb",
        "outputId": "e22cec27-b7db-4c11-a14f-0ed2e608f964"
      },
      "source": [
        "model = get_model()\r\n",
        "model.summary()"
      ],
      "execution_count": 10,
      "outputs": [
        {
          "output_type": "stream",
          "text": [
            "Downloading data from https://storage.googleapis.com/tensorflow/keras-applications/resnet/resnet50_weights_tf_dim_ordering_tf_kernels_notop.h5\n",
            "94773248/94765736 [==============================] - 1s 0us/step\n",
            "Model: \"model\"\n",
            "_________________________________________________________________\n",
            "Layer (type)                 Output Shape              Param #   \n",
            "=================================================================\n",
            "input_1 (InputLayer)         [(None, 32, 32, 3)]       0         \n",
            "_________________________________________________________________\n",
            "up_sampling2d (UpSampling2D) (None, 224, 224, 3)       0         \n",
            "_________________________________________________________________\n",
            "resnet50 (Functional)        (None, 7, 7, 2048)        23587712  \n",
            "_________________________________________________________________\n",
            "global_average_pooling2d (Gl (None, 2048)              0         \n",
            "_________________________________________________________________\n",
            "flatten (Flatten)            (None, 2048)              0         \n",
            "_________________________________________________________________\n",
            "dense (Dense)                (None, 1024)              2098176   \n",
            "_________________________________________________________________\n",
            "dense_1 (Dense)              (None, 512)               524800    \n",
            "_________________________________________________________________\n",
            "classification (Dense)       (None, 10)                5130      \n",
            "=================================================================\n",
            "Total params: 26,215,818\n",
            "Trainable params: 26,162,698\n",
            "Non-trainable params: 53,120\n",
            "_________________________________________________________________\n"
          ],
          "name": "stdout"
        }
      ]
    },
    {
      "cell_type": "code",
      "metadata": {
        "colab": {
          "base_uri": "https://localhost:8080/"
        },
        "id": "-wZDrwu3JtWM",
        "outputId": "da97768b-8f53-4871-c5a0-33357163e08c"
      },
      "source": [
        "epoch = 4\r\n",
        "his = model.fit(X_train , training_labels ,\r\n",
        "                epochs=epoch , batch_size=32 ,\r\n",
        "                validation_data=(X_val , validation_labels) ,\r\n",
        "                validation_batch_size=32)"
      ],
      "execution_count": 11,
      "outputs": [
        {
          "output_type": "stream",
          "text": [
            "Epoch 1/4\n",
            "1563/1563 [==============================] - 292s 181ms/step - loss: 0.6107 - acc: 0.7966 - val_loss: 0.2274 - val_acc: 0.9212\n",
            "Epoch 2/4\n",
            "1563/1563 [==============================] - 282s 180ms/step - loss: 0.0950 - acc: 0.9701 - val_loss: 0.1481 - val_acc: 0.9505\n",
            "Epoch 3/4\n",
            "1563/1563 [==============================] - 282s 180ms/step - loss: 0.0376 - acc: 0.9882 - val_loss: 0.1687 - val_acc: 0.9490\n",
            "Epoch 4/4\n",
            "1563/1563 [==============================] - 282s 180ms/step - loss: 0.0202 - acc: 0.9946 - val_loss: 0.1677 - val_acc: 0.9541\n"
          ],
          "name": "stdout"
        }
      ]
    },
    {
      "cell_type": "code",
      "metadata": {
        "id": "ZjbU495M_YIN"
      },
      "source": [
        ""
      ],
      "execution_count": null,
      "outputs": []
    }
  ]
}